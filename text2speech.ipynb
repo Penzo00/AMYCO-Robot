{
 "cells": [
  {
   "cell_type": "code",
   "execution_count": 16,
   "metadata": {},
   "outputs": [
    {
     "name": "stdout",
     "output_type": "stream",
     "text": [
      "     id name_id source_type source_name  \\\n",
      "22    8      16           1         NaN   \n",
      "49   11      23           1         NaN   \n",
      "56   12      25           1         NaN   \n",
      "90   15      42           1         NaN   \n",
      "214  17      43           1         NaN   \n",
      "\n",
      "                                   general_description diagnostic_description  \\\n",
      "22     http://en.wikipedia.org/wiki/Panellus_stipticus                    NaN   \n",
      "49   http://www.rogersmushrooms.com/gallery/Display...                    NaN   \n",
      "56   Pale yellow stipe with red scabers. Pale yello...                    NaN   \n",
      "90             _Trametes versicolor_ (L.) Lloyd (1920)                    NaN   \n",
      "214  Cap: 5-15 cm; convex becoming broadly convex; ...                    NaN   \n",
      "\n",
      "              distribution                            habitat look_alikes  \\\n",
      "22                     NaN                                NaN         NaN   \n",
      "49   Eastern North America  Under conifers and in mixed woods         NaN   \n",
      "56                     NaN                                NaN         NaN   \n",
      "90                     NaN                                NaN         NaN   \n",
      "214                    NaN                                NaN         NaN   \n",
      "\n",
      "        uses                                              notes refs  \n",
      "22       NaN                                                NaN  NaN  \n",
      "49   Edible.  Tylopilus chromapes (Frost) A.H. Sm. & Thiers,...  NaN  \n",
      "56       NaN                                                NaN  NaN  \n",
      "90       NaN                                                NaN  NaN  \n",
      "214      NaN                                                NaN  NaN  \n",
      "Reading: A small _Russula_ with a 2-3 cm wide red pileus, 3-3.5 x .5-.7 cm white stipe, and white, crowded, and adnate lamellae (Kimbrough, 2000). The pileus features a cuticle that peels 1/3 to the disc. It also has a very acrid taste (Kimbrough, 2000).\n"
     ]
    }
   ],
   "source": [
    "import pandas as pd\n",
    "import numpy as np\n",
    "import pyttsx3\n",
    "\n",
    "# Initialize the text-to-speech engine\n",
    "engine = pyttsx3.init()\n",
    "\n",
    "# Read the CSV file\n",
    "csv_file_path = 'C:/Users/chiar/Documents/Uni/5. Digital Systems Design/Progetto/name_descriptions.csv'\n",
    "df = pd.read_csv(csv_file_path, delimiter='\\t', on_bad_lines='skip')\n",
    "\n",
    "# Remove the NaN descriptions\n",
    "df_clean = df.dropna(subset=['general_description'])\n",
    "print(df_clean.head())\n",
    "\n",
    "# Specify the row and column of the desired cell\n",
    "row = 22826 # First row\n",
    "column = 'general_description'  # Replace with the actual column name from your file\n",
    "\n",
    "# Retrieve the text from the specified cell\n",
    "text_to_read = df_clean.at[row, column]  # Using .at to access cell by label\n",
    "print(f\"Reading: {text_to_read}\")\n",
    "\n",
    "# Use the text-to-speech engine to read the text out loud\n",
    "engine.say(text_to_read)\n",
    "engine.runAndWait()"
   ]
  }
 ],
 "metadata": {
  "kernelspec": {
   "display_name": "Python 3",
   "language": "python",
   "name": "python3"
  },
  "language_info": {
   "codemirror_mode": {
    "name": "ipython",
    "version": 3
   },
   "file_extension": ".py",
   "mimetype": "text/x-python",
   "name": "python",
   "nbconvert_exporter": "python",
   "pygments_lexer": "ipython3",
   "version": "3.12.7"
  }
 },
 "nbformat": 4,
 "nbformat_minor": 2
}
