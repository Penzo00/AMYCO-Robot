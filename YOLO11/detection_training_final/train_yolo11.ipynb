{
 "cells": [
  {
   "cell_type": "code",
   "metadata": {
    "colab": {
     "base_uri": "https://localhost:8080/"
    },
    "id": "tdSMcABDNKW-",
    "outputId": "daf1c9f5-3bb6-4932-80fc-a69a101f9794"
   },
   "source": [
    "import ultralytics\n",
    "ultralytics.checks()"
   ],
   "outputs": [],
   "execution_count": null
  },
  {
   "cell_type": "markdown",
   "metadata": {
    "id": "YUjFBKKqXa-u"
   },
   "source": [
    "## Custom Training"
   ]
  },
  {
   "metadata": {},
   "cell_type": "code",
   "source": [
    "from ultralytics import YOLO\n",
    "\n",
    "# Load a model\n",
    "model = YOLO(\"yolo11x.pt\")  # load a pretrained model (recommended for training)"
   ],
   "outputs": [],
   "execution_count": null
  },
  {
   "metadata": {},
   "cell_type": "code",
   "source": [
    "# Train the model\n",
    "results = model.train(task=\"detect\", data=\"data.yaml\", epochs=24, imgsz=640, batch=-1, device=0, plots=True)"
   ],
   "outputs": [],
   "execution_count": null
  },
  {
   "cell_type": "code",
   "metadata": {
    "id": "D2YkphuiaE7_"
   },
   "source": [
    "# Validate the model\n",
    "metrics = model.val(task=\"detect\", data=\"data.yaml\", imgsz=640, device=0, plots=True)  # no arguments needed, dataset and settings remembered, but in case of interruptions..."
   ],
   "outputs": [],
   "execution_count": null
  },
  {
   "metadata": {},
   "cell_type": "code",
   "source": [
    "# Run batched inference on a list of images\n",
    "foto = model(\"porcino.jpg\")  # return a list of Results objects\n",
    "\n",
    "# Process results list\n",
    "for funghi in foto:\n",
    "    boxes = funghi.boxes  # Boxes object for bounding box outputs\n",
    "    masks = funghi.masks  # Masks object for segmentation masks outputs\n",
    "    keypoints = funghi.keypoints  # Keypoints object for pose outputs\n",
    "    probs = funghi.probs  # Probs object for classification outputs\n",
    "    obb = funghi.obb  # Oriented boxes object for OBB outputs\n",
    "    funghi.show()  # display to screen\n",
    "    funghi.save(filename=\"result2.jpg\")  # save to disk"
   ],
   "outputs": [],
   "execution_count": null
  },
  {
   "metadata": {},
   "cell_type": "code",
   "source": [
    "%%capture\n",
    "import os\n",
    "import numpy as np\n",
    "import matplotlib.pyplot as plt\n",
    "from sklearn.metrics import roc_curve, auc\n",
    "from ultralytics import YOLO\n",
    "\n",
    "# Carica il modello YOLO11x\n",
    "model = YOLO(\"runs/detect/train/weights/best.pt\")\n",
    "\n",
    "# Percorsi delle cartelle\n",
    "image_folder = \"test/images\"\n",
    "label_folder = \"test/labels\"\n",
    "\n",
    "# Funzione per leggere le etichette\n",
    "def read_labels(label_path):\n",
    "    with open(label_path, 'r') as file:\n",
    "        lines = file.readlines()\n",
    "    labels = []\n",
    "    for line in lines:\n",
    "        class_id, x_center, y_center, width, height = map(float, line.strip().split())\n",
    "        labels.append((class_id, x_center, y_center, width, height))\n",
    "    return labels\n",
    "\n",
    "# Esegui inferenza e raccogli le predizioni e le etichette\n",
    "y_true = []\n",
    "y_scores = []\n",
    "\n",
    "for image_file in os.listdir(image_folder):\n",
    "    image_path = os.path.join(image_folder, image_file)\n",
    "    label_path = os.path.join(label_folder, os.path.splitext(image_file)[0] + '.txt')\n",
    "    \n",
    "    if not os.path.exists(label_path):\n",
    "        continue\n",
    "\n",
    "    labels = read_labels(label_path)\n",
    "    \n",
    "    results = model(image_path)\n",
    "    \n",
    "    true_count = len(labels)  # Numero reale di funghi\n",
    "    pred_count = 0\n",
    "    \n",
    "    # Raccolta delle predizioni e delle etichette\n",
    "    for funghi in results:\n",
    "        for box in funghi.boxes:\n",
    "            score = box.conf[0].cpu().numpy()  # Punteggio di confidenza della predizione\n",
    "            y_scores.append(score)\n",
    "            pred_count += 1 if score >= 0.25 else 0\n",
    "\n",
    "    y_true.extend([1] * true_count)  # Funghi veri (1)\n",
    "    y_true.extend([0] * (pred_count - true_count if pred_count > true_count else 0))  # Background falso (0)\n",
    "    \n",
    "    y_scores.extend([0] * (true_count - pred_count if true_count > pred_count else 0))  # Funghi mancanti\n",
    "\n",
    "# Calcola la curva ROC\n",
    "fpr, tpr, thresholds = roc_curve(y_true, y_scores)\n",
    "roc_auc = auc(fpr, tpr)\n",
    "\n",
    "# Calcola Youden's J statistic (tpr - fpr) per ogni valore di soglia\n",
    "youden = tpr - fpr\n",
    "\n",
    "# Trova la soglia ottimale che massimizza la differenza tra tpr e fpr\n",
    "optimal_threshold = thresholds[np.argmax(youden)]\n",
    "\n",
    "# Traccia la curva ROC\n",
    "plt.figure()\n",
    "plt.plot(fpr, tpr, label=f'ROC Curve (AUC = {roc_auc:.4f})')\n",
    "plt.plot([0, 1], [0, 1], 'k--')  # Diagonal reference line\n",
    "\n",
    "# Annota la soglia ottimale con un marker a stella\n",
    "plt.scatter(fpr[np.argmax(youden)], tpr[np.argmax(youden)], marker='*', color='black', s=100, label=f'Optimal Threshold = {optimal_threshold:.4f}', zorder=5)\n",
    "\n",
    "plt.xlim([0.0, 1.0])\n",
    "plt.ylim([0.0, 1.05])\n",
    "plt.xlabel('False Positive Rate')\n",
    "plt.ylabel('True Positive Rate')\n",
    "plt.title('Receiver Operating Characteristic (ROC) Curve')\n",
    "plt.legend(loc='lower right')\n",
    "plt.savefig('roc.png', bbox_inches='tight')\n",
    "plt.show()\n",
    "\n",
    "print(f'Optimal Threshold: {optimal_threshold}')"
   ],
   "outputs": [],
   "execution_count": null
  },
  {
   "metadata": {},
   "cell_type": "code",
   "source": [
    "# Validate the model\n",
    "metrics = model.val(task=\"detect\", data=\"data.yaml\", imgsz=640, device=0, plots=True, conf=optimal_threshold)  # using the optimal threshold"
   ],
   "outputs": [],
   "execution_count": null
  },
  {
   "metadata": {},
   "cell_type": "code",
   "source": [
    "# Run batched inference on a list of images\n",
    "foto = model([\"4 (1).jpg\", \"309382.jpg\", \"53724.jpg\", \"porcino.jpg\", \"porci.jpg\", \"hard2.jpg\", \"ama.jpg\", \"boh.jpg\", \"pene.jpg\", \"litt.jpg\"])#, conf=0.78)  # return a list of Results objects\n",
    "\n",
    "# Process results list\n",
    "for funghi in foto:\n",
    "    boxes = funghi.boxes  # Boxes object for bounding box outputs\n",
    "    probs = funghi.probs  # Probs object for classification outputs\n",
    "    funghi.show()  # display to screen"
   ],
   "outputs": [],
   "execution_count": null
  }
 ],
 "metadata": {
  "accelerator": "GPU",
  "colab": {
   "provenance": []
  },
  "gpuClass": "standard",
  "kernelspec": {
   "display_name": "Python 3 (ipykernel)",
   "language": "python",
   "name": "python3"
  },
  "language_info": {
   "codemirror_mode": {
    "name": "ipython",
    "version": 3
   },
   "file_extension": ".py",
   "mimetype": "text/x-python",
   "name": "python",
   "nbconvert_exporter": "python",
   "pygments_lexer": "ipython3",
   "version": "3.9.6"
  }
 },
 "nbformat": 4,
 "nbformat_minor": 0
}
